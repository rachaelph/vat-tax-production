{
  "cells": [
    {
      "cell_type": "code",
      "source": [
        "# 'prebuilt-invoice', 'prebuilt-receipt', 'prebuilt-tax.us.w2', 'prebuilt-idDocument', 'prebuilt-businessCard'\r\n",
        "model = 'prebuilt-invoice'\r\n",
        "\r\n",
        "# path to pdf/image\r\n",
        "container = 'landing'\r\n",
        "folderpath = 'Invoices/'\r\n",
        "filename = 'invoice.pdf'"
      ],
      "outputs": [
        {
          "output_type": "display_data",
          "data": {
            "application/vnd.livy.statement-meta+json": {
              "spark_pool": "defaultSpark33",
              "session_id": "0",
              "statement_id": 6,
              "state": "finished",
              "livy_statement_state": "available",
              "queued_time": "2023-01-21T05:38:17.8283201Z",
              "session_start_time": null,
              "execution_start_time": "2023-01-21T05:38:18.0119889Z",
              "execution_finish_time": "2023-01-21T05:38:18.1912282Z",
              "spark_jobs": null
            },
            "text/plain": "StatementMeta(defaultSpark33, 0, 6, Finished, Available)"
          },
          "metadata": {}
        }
      ],
      "execution_count": 6,
      "metadata": {
        "tags": [
          "parameters"
        ]
      }
    },
    {
      "cell_type": "code",
      "source": [
        "pip install azure-ai-formrecognizer"
      ],
      "outputs": [],
      "execution_count": null,
      "metadata": {
        "jupyter": {
          "source_hidden": false,
          "outputs_hidden": false
        },
        "nteract": {
          "transient": {
            "deleting": false
          }
        }
      }
    },
    {
      "cell_type": "code",
      "source": [
        "import json\r\n",
        "import pandas as pd\r\n",
        "from azure.core.credentials import AzureKeyCredential\r\n",
        "from azure.ai.formrecognizer import DocumentAnalysisClient"
      ],
      "outputs": [
        {
          "output_type": "display_data",
          "data": {
            "application/vnd.livy.statement-meta+json": {
              "spark_pool": "defaultSpark33",
              "session_id": "0",
              "statement_id": 3,
              "state": "finished",
              "livy_statement_state": "available",
              "queued_time": "2023-01-21T05:37:47.2473787Z",
              "session_start_time": null,
              "execution_start_time": "2023-01-21T05:37:47.369882Z",
              "execution_finish_time": "2023-01-21T05:37:58.1632243Z",
              "spark_jobs": null
            },
            "text/plain": "StatementMeta(defaultSpark33, 0, 3, Finished, Available)"
          },
          "metadata": {}
        }
      ],
      "execution_count": 3,
      "metadata": {
        "jupyter": {
          "source_hidden": false,
          "outputs_hidden": false
        },
        "nteract": {
          "transient": {
            "deleting": false
          }
        }
      }
    },
    {
      "cell_type": "code",
      "source": [
        "# storage name\r\n",
        "storageLinkedService = 'LS_LandingStorage'\r\n",
        "storageAccount_ls = mssparkutils.credentials.getPropertiesAll(storageLinkedService)\r\n",
        "storageAccountName = json.loads(storageAccount_ls)['Endpoint'].split('.')[0].replace('https://','')\r\n",
        "\r\n",
        "#key vault name\r\n",
        "keyVault_ls = mssparkutils.credentials.getPropertiesAll('LS_KeyVault')\r\n",
        "keyVaultName = json.loads(keyVault_ls)['Endpoint'].split('.')[0].replace('https://','')\r\n",
        "\r\n",
        "#cognitive services name and secret\r\n",
        "cognitiveService_ls = mssparkutils.credentials.getPropertiesAll('LS_CognitiveService')\r\n",
        "cognitiveServiceName = json.loads(cognitiveService_ls)['CsName']\r\n",
        "cognitiveServiceKey = json.loads(cognitiveService_ls)['CsKey']"
      ],
      "outputs": [
        {
          "output_type": "display_data",
          "data": {
            "application/vnd.livy.statement-meta+json": {
              "spark_pool": "defaultSpark33",
              "session_id": "0",
              "statement_id": 4,
              "state": "finished",
              "livy_statement_state": "available",
              "queued_time": "2023-01-21T05:38:03.4489621Z",
              "session_start_time": null,
              "execution_start_time": "2023-01-21T05:38:03.6076609Z",
              "execution_finish_time": "2023-01-21T05:38:06.4134755Z",
              "spark_jobs": null
            },
            "text/plain": "StatementMeta(defaultSpark33, 0, 4, Finished, Available)"
          },
          "metadata": {}
        }
      ],
      "execution_count": 4,
      "metadata": {
        "jupyter": {
          "source_hidden": false,
          "outputs_hidden": false
        },
        "nteract": {
          "transient": {
            "deleting": false
          }
        }
      }
    },
    {
      "cell_type": "code",
      "source": [
        "mssparkutils.fs.mount( \r\n",
        "    f\"abfss://{container}@{storageAccountName}.dfs.core.windows.net/{folderpath}\", \r\n",
        "    \"/mnt\", \r\n",
        "    {\"linkedService\":f\"{storageLinkedService}\"} \r\n",
        ")"
      ],
      "outputs": [
        {
          "output_type": "display_data",
          "data": {
            "application/vnd.livy.statement-meta+json": {
              "spark_pool": "defaultSpark33",
              "session_id": "0",
              "statement_id": 8,
              "state": "finished",
              "livy_statement_state": "available",
              "queued_time": "2023-01-21T05:38:24.6349182Z",
              "session_start_time": null,
              "execution_start_time": "2023-01-21T05:38:24.7664651Z",
              "execution_finish_time": "2023-01-21T05:38:45.8804333Z",
              "spark_jobs": null
            },
            "text/plain": "StatementMeta(defaultSpark33, 0, 8, Finished, Available)"
          },
          "metadata": {}
        },
        {
          "output_type": "execute_result",
          "execution_count": 19,
          "data": {
            "text/plain": "True"
          },
          "metadata": {}
        }
      ],
      "execution_count": 8,
      "metadata": {
        "jupyter": {
          "source_hidden": false,
          "outputs_hidden": false
        },
        "nteract": {
          "transient": {
            "deleting": false
          }
        }
      }
    },
    {
      "cell_type": "code",
      "source": [
        "jobid = mssparkutils.env.getJobId()"
      ],
      "outputs": [
        {
          "output_type": "display_data",
          "data": {
            "application/vnd.livy.statement-meta+json": {
              "spark_pool": "defaultSpark33",
              "session_id": "0",
              "statement_id": 9,
              "state": "finished",
              "livy_statement_state": "available",
              "queued_time": "2023-01-21T05:38:47.3296365Z",
              "session_start_time": null,
              "execution_start_time": "2023-01-21T05:38:47.4697417Z",
              "execution_finish_time": "2023-01-21T05:38:47.6472771Z",
              "spark_jobs": null
            },
            "text/plain": "StatementMeta(defaultSpark33, 0, 9, Finished, Available)"
          },
          "metadata": {}
        }
      ],
      "execution_count": 9,
      "metadata": {
        "jupyter": {
          "source_hidden": false,
          "outputs_hidden": false
        },
        "nteract": {
          "transient": {
            "deleting": false
          }
        }
      }
    },
    {
      "cell_type": "code",
      "source": [
        "with open(f\"/synfs/{jobid}/mnt/{filename}\", \"rb\") as fd:\r\n",
        "    document = fd.read()"
      ],
      "outputs": [
        {
          "output_type": "display_data",
          "data": {
            "application/vnd.livy.statement-meta+json": {
              "spark_pool": "defaultSpark33",
              "session_id": "0",
              "statement_id": 10,
              "state": "finished",
              "livy_statement_state": "available",
              "queued_time": "2023-01-21T05:38:53.7140931Z",
              "session_start_time": null,
              "execution_start_time": "2023-01-21T05:38:53.837851Z",
              "execution_finish_time": "2023-01-21T05:38:54.0068722Z",
              "spark_jobs": null
            },
            "text/plain": "StatementMeta(defaultSpark33, 0, 10, Finished, Available)"
          },
          "metadata": {}
        }
      ],
      "execution_count": 10,
      "metadata": {
        "jupyter": {
          "source_hidden": false,
          "outputs_hidden": false
        },
        "nteract": {
          "transient": {
            "deleting": false
          }
        }
      }
    },
    {
      "cell_type": "code",
      "source": [
        "document_analysis_client = DocumentAnalysisClient(\r\n",
        "    endpoint=f\"https://{cognitiveServiceName}.cognitiveservices.azure.com/\",\r\n",
        "    credential=AzureKeyCredential(cognitiveServiceKey)\r\n",
        ")"
      ],
      "outputs": [
        {
          "output_type": "display_data",
          "data": {
            "application/vnd.livy.statement-meta+json": {
              "spark_pool": "defaultSpark33",
              "session_id": "0",
              "statement_id": 11,
              "state": "finished",
              "livy_statement_state": "available",
              "queued_time": "2023-01-21T05:39:20.4300089Z",
              "session_start_time": null,
              "execution_start_time": "2023-01-21T05:39:20.5580903Z",
              "execution_finish_time": "2023-01-21T05:39:20.7694694Z",
              "spark_jobs": null
            },
            "text/plain": "StatementMeta(defaultSpark33, 0, 11, Finished, Available)"
          },
          "metadata": {}
        }
      ],
      "execution_count": 11,
      "metadata": {
        "jupyter": {
          "source_hidden": false,
          "outputs_hidden": false
        },
        "nteract": {
          "transient": {
            "deleting": false
          }
        }
      }
    },
    {
      "cell_type": "code",
      "source": [
        "poller = document_analysis_client.begin_analyze_document(model, document)\r\n",
        "result = poller.result()\r\n",
        "# convert data to dictionary for processing\r\n",
        "analyze_result_dict = result.to_dict()"
      ],
      "outputs": [
        {
          "output_type": "display_data",
          "data": {
            "application/vnd.livy.statement-meta+json": {
              "spark_pool": "defaultSpark33",
              "session_id": "0",
              "statement_id": 12,
              "state": "finished",
              "livy_statement_state": "available",
              "queued_time": "2023-01-21T05:39:24.0076292Z",
              "session_start_time": null,
              "execution_start_time": "2023-01-21T05:39:24.1302259Z",
              "execution_finish_time": "2023-01-21T05:39:36.8399363Z",
              "spark_jobs": null
            },
            "text/plain": "StatementMeta(defaultSpark33, 0, 12, Finished, Available)"
          },
          "metadata": {}
        }
      ],
      "execution_count": 12,
      "metadata": {
        "jupyter": {
          "source_hidden": false,
          "outputs_hidden": false
        },
        "nteract": {
          "transient": {
            "deleting": false
          }
        }
      }
    },
    {
      "cell_type": "code",
      "source": [
        "attribute_data = []\r\n",
        "item_data = []\r\n",
        "\r\n",
        "fields_output = {}\r\n",
        "\r\n",
        "documents = analyze_result_dict.get('documents')\r\n",
        "\r\n",
        "for document in documents:\r\n",
        "    fields = document.get('fields').items()\r\n",
        "    for name, field in fields:\r\n",
        "        if name == \"Items\":\r\n",
        "            # for each item (or row)\r\n",
        "            for idx, item in enumerate(field.get('value')):\r\n",
        "                row = {}\r\n",
        "                # for each field in item (or row)\r\n",
        "                for item_field_name, item_field in item.get('value').items():\r\n",
        "                    if 'bounding_regions' in item_field.keys():\r\n",
        "                        del item_field['bounding_regions']\r\n",
        "                    if 'spans' in item_field.keys():\r\n",
        "                        del item_field['spans']\r\n",
        "                    value = json.dumps(item_field, default=str)\r\n",
        "                    row[item_field_name] = value\r\n",
        "                item_data.append(row)\r\n",
        "        else:\r\n",
        "            if 'bounding_regions' in field.keys():\r\n",
        "                del field['bounding_regions']\r\n",
        "            if 'spans' in field.keys():\r\n",
        "                del field['spans']\r\n",
        "            value = json.dumps(field, default=str)\r\n",
        "            fields_output[name] = value\r\n",
        "\r\n",
        "attribute_data.append(fields_output)"
      ],
      "outputs": [
        {
          "output_type": "display_data",
          "data": {
            "application/vnd.livy.statement-meta+json": {
              "spark_pool": "defaultSpark33",
              "session_id": "0",
              "statement_id": 14,
              "state": "finished",
              "livy_statement_state": "available",
              "queued_time": "2023-01-21T05:39:48.1443164Z",
              "session_start_time": null,
              "execution_start_time": "2023-01-21T05:39:48.2664255Z",
              "execution_finish_time": "2023-01-21T05:39:48.4371547Z",
              "spark_jobs": null
            },
            "text/plain": "StatementMeta(defaultSpark33, 0, 14, Finished, Available)"
          },
          "metadata": {}
        }
      ],
      "execution_count": 14,
      "metadata": {
        "jupyter": {
          "source_hidden": false,
          "outputs_hidden": false
        },
        "nteract": {
          "transient": {
            "deleting": false
          }
        }
      }
    },
    {
      "cell_type": "code",
      "source": [
        "item_df = pd.DataFrame(item_data)"
      ],
      "outputs": [
        {
          "output_type": "display_data",
          "data": {
            "application/vnd.livy.statement-meta+json": {
              "spark_pool": "defaultSpark33",
              "session_id": "0",
              "statement_id": 15,
              "state": "finished",
              "livy_statement_state": "available",
              "queued_time": "2023-01-21T05:39:49.1110395Z",
              "session_start_time": null,
              "execution_start_time": "2023-01-21T05:39:49.2719581Z",
              "execution_finish_time": "2023-01-21T05:39:49.4630032Z",
              "spark_jobs": null
            },
            "text/plain": "StatementMeta(defaultSpark33, 0, 15, Finished, Available)"
          },
          "metadata": {}
        }
      ],
      "execution_count": 15,
      "metadata": {
        "jupyter": {
          "source_hidden": false,
          "outputs_hidden": false
        },
        "nteract": {
          "transient": {
            "deleting": false
          }
        }
      }
    },
    {
      "cell_type": "code",
      "source": [
        "field_df = pd.DataFrame(attribute_data)"
      ],
      "outputs": [
        {
          "output_type": "display_data",
          "data": {
            "application/vnd.livy.statement-meta+json": {
              "spark_pool": "defaultSpark33",
              "session_id": "0",
              "statement_id": 16,
              "state": "finished",
              "livy_statement_state": "available",
              "queued_time": "2023-01-21T05:39:49.9744973Z",
              "session_start_time": null,
              "execution_start_time": "2023-01-21T05:39:50.0920899Z",
              "execution_finish_time": "2023-01-21T05:39:50.2582764Z",
              "spark_jobs": null
            },
            "text/plain": "StatementMeta(defaultSpark33, 0, 16, Finished, Available)"
          },
          "metadata": {}
        }
      ],
      "execution_count": 16,
      "metadata": {
        "jupyter": {
          "source_hidden": false,
          "outputs_hidden": false
        },
        "nteract": {
          "transient": {
            "deleting": false
          }
        }
      }
    },
    {
      "cell_type": "code",
      "source": [
        "if item_data == []:\r\n",
        "    output = field_df\r\n",
        "else:\r\n",
        "    output = field_df.merge(item_df, how='cross')"
      ],
      "outputs": [
        {
          "output_type": "display_data",
          "data": {
            "application/vnd.livy.statement-meta+json": {
              "spark_pool": "defaultSpark33",
              "session_id": "0",
              "statement_id": 17,
              "state": "finished",
              "livy_statement_state": "available",
              "queued_time": "2023-01-21T05:39:51.2115066Z",
              "session_start_time": null,
              "execution_start_time": "2023-01-21T05:39:51.3296177Z",
              "execution_finish_time": "2023-01-21T05:39:51.8893975Z",
              "spark_jobs": null
            },
            "text/plain": "StatementMeta(defaultSpark33, 0, 17, Finished, Available)"
          },
          "metadata": {}
        }
      ],
      "execution_count": 17,
      "metadata": {
        "jupyter": {
          "source_hidden": false,
          "outputs_hidden": false
        },
        "nteract": {
          "transient": {
            "deleting": false
          }
        }
      }
    },
    {
      "cell_type": "code",
      "source": [
        "fileNoExt = filename.split('.')[0]\r\n",
        "outputPath = f\"abfss://{container}@{storageAccountName}.dfs.core.windows.net/{folderpath}{fileNoExt}_formrecognizeroutput.csv\"\r\n",
        "output.to_csv(outputPath, index=False, storage_options = {'linked_service' : f'{storageLinkedService}'})"
      ],
      "outputs": [
        {
          "output_type": "display_data",
          "data": {
            "application/vnd.livy.statement-meta+json": {
              "spark_pool": "defaultSpark33",
              "session_id": "0",
              "statement_id": 21,
              "state": "finished",
              "livy_statement_state": "available",
              "queued_time": "2023-01-21T05:44:15.8210228Z",
              "session_start_time": null,
              "execution_start_time": "2023-01-21T05:44:15.9831538Z",
              "execution_finish_time": "2023-01-21T05:44:16.1857836Z",
              "spark_jobs": null
            },
            "text/plain": "StatementMeta(defaultSpark33, 0, 21, Finished, Available)"
          },
          "metadata": {}
        }
      ],
      "execution_count": 21,
      "metadata": {
        "jupyter": {
          "source_hidden": false,
          "outputs_hidden": false
        },
        "nteract": {
          "transient": {
            "deleting": false
          }
        }
      }
    }
  ],
  "metadata": {
    "kernelspec": {
      "name": "synapse_pyspark",
      "display_name": "Synapse PySpark"
    },
    "language_info": {
      "name": "python"
    },
    "description": null,
    "save_output": true,
    "synapse_widget": {
      "version": "0.1",
      "state": {}
    }
  },
  "nbformat": 4,
  "nbformat_minor": 2
}