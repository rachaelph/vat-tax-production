{
  "cells": [
    {
      "cell_type": "code",
      "source": [
        "import re\r\n",
        "import json"
      ],
      "outputs": [
        {
          "output_type": "display_data",
          "data": {
            "application/vnd.livy.statement-meta+json": {
              "spark_pool": null,
              "session_id": null,
              "statement_id": null,
              "state": "cancelled",
              "livy_statement_state": null,
              "queued_time": "2023-02-21T18:25:33.1729632Z",
              "session_start_time": "2023-02-21T18:25:33.2777926Z",
              "execution_start_time": null,
              "execution_finish_time": "2023-02-21T18:34:32.8423194Z",
              "spark_jobs": null,
              "parent_msg_id": "7d9f5d7c-95f1-437a-98b1-ef0dbe00e817"
            },
            "text/plain": "StatementMeta(, , , Cancelled, )"
          },
          "metadata": {}
        }
      ],
      "execution_count": 1,
      "metadata": {
        "jupyter": {
          "source_hidden": false,
          "outputs_hidden": false
        },
        "nteract": {
          "transient": {
            "deleting": false
          }
        }
      }
    },
    {
      "cell_type": "code",
      "source": [
        "# Whether a JSON record spans multiple lines in document\r\n",
        "multiline = \"True\"\r\n",
        "\r\n",
        "# path to file\r\n",
        "container = 'landing'\r\n",
        "folderPath = 'test/'\r\n",
        "fileName = 'hstest_20230220_v3.json'"
      ],
      "outputs": [],
      "execution_count": null,
      "metadata": {
        "jupyter": {
          "source_hidden": false,
          "outputs_hidden": false
        },
        "nteract": {
          "transient": {
            "deleting": false
          }
        },
        "tags": [
          "parameters"
        ]
      }
    },
    {
      "cell_type": "code",
      "source": [
        "# storage name\r\n",
        "storageLinkedService = 'LS_LandingStorage'\r\n",
        "storageAccount_ls = mssparkutils.credentials.getPropertiesAll(storageLinkedService)\r\n",
        "storageAccountName = json.loads(storageAccount_ls)['Endpoint'].split('.')[0].replace('https://','')"
      ],
      "outputs": [
        {
          "output_type": "display_data",
          "data": {
            "application/vnd.livy.statement-meta+json": {
              "spark_pool": "defaultSpark33",
              "session_id": "0",
              "statement_id": 2,
              "state": "finished",
              "livy_statement_state": "available",
              "queued_time": "2023-02-21T00:28:25.5556616Z",
              "session_start_time": null,
              "execution_start_time": "2023-02-21T00:28:25.7217231Z",
              "execution_finish_time": "2023-02-21T00:28:25.8795323Z",
              "spark_jobs": null,
              "parent_msg_id": "c77221c4-1900-40b9-a8b0-1d6e1625754e"
            },
            "text/plain": "StatementMeta(defaultSpark33, 0, 2, Finished, Available)"
          },
          "metadata": {}
        }
      ],
      "execution_count": 2,
      "metadata": {
        "jupyter": {
          "source_hidden": false,
          "outputs_hidden": false
        },
        "nteract": {
          "transient": {
            "deleting": false
          }
        }
      }
    },
    {
      "cell_type": "code",
      "source": [
        "# filepath\r\n",
        "filePath = f\"abfss://{container}@{storageAccountName}.dfs.core.windows.net/{folderPath}{fileName}\""
      ],
      "outputs": [],
      "execution_count": null,
      "metadata": {
        "jupyter": {
          "source_hidden": false,
          "outputs_hidden": false
        },
        "nteract": {
          "transient": {
            "deleting": false
          }
        }
      }
    },
    {
      "cell_type": "code",
      "source": [
        "df = spark.read.option(\"multiline\",f\"{multiline}\").json(filePath)"
      ],
      "outputs": [
        {
          "output_type": "display_data",
          "data": {
            "application/vnd.livy.statement-meta+json": {
              "spark_pool": "defaultSpark33",
              "session_id": "0",
              "statement_id": 5,
              "state": "finished",
              "livy_statement_state": "available",
              "queued_time": "2023-02-21T00:29:26.8473923Z",
              "session_start_time": null,
              "execution_start_time": "2023-02-21T00:29:26.9992839Z",
              "execution_finish_time": "2023-02-21T00:29:29.8003366Z",
              "spark_jobs": null,
              "parent_msg_id": "aa9b776a-14b2-4fc3-b945-0ede8d34b6af"
            },
            "text/plain": "StatementMeta(defaultSpark33, 0, 5, Finished, Available)"
          },
          "metadata": {}
        }
      ],
      "execution_count": 5,
      "metadata": {
        "jupyter": {
          "source_hidden": false,
          "outputs_hidden": false
        },
        "nteract": {
          "transient": {
            "deleting": false
          }
        }
      }
    },
    {
      "cell_type": "markdown",
      "source": [
        "## Get Json File Metadata"
      ],
      "metadata": {
        "nteract": {
          "transient": {
            "deleting": false
          }
        }
      }
    },
    {
      "cell_type": "code",
      "source": [
        "dtypes = df.dtypes\r\n",
        "structure = [{\"name\": dtype[0], \"type\": dtype[1]} for dtype in dtypes]\r\n",
        "structureJson = str(structure).replace(\"'\",'\"')\r\n",
        "columns = str(len(dtypes))"
      ],
      "outputs": [
        {
          "output_type": "display_data",
          "data": {
            "application/vnd.livy.statement-meta+json": {
              "spark_pool": "defaultSpark33",
              "session_id": "0",
              "statement_id": 15,
              "state": "finished",
              "livy_statement_state": "available",
              "queued_time": "2023-02-21T00:41:53.1741297Z",
              "session_start_time": null,
              "execution_start_time": "2023-02-21T00:41:53.3289455Z",
              "execution_finish_time": "2023-02-21T00:41:53.4823388Z",
              "spark_jobs": null,
              "parent_msg_id": "e21fca55-c909-4529-aefe-67fbf7d01369"
            },
            "text/plain": "StatementMeta(defaultSpark33, 0, 15, Finished, Available)"
          },
          "metadata": {}
        }
      ],
      "execution_count": 15,
      "metadata": {
        "jupyter": {
          "source_hidden": false,
          "outputs_hidden": false
        },
        "nteract": {
          "transient": {
            "deleting": false
          }
        }
      }
    },
    {
      "cell_type": "code",
      "source": [
        "mssparkutils.notebook.exit(structureJson+'|'+columns)"
      ],
      "outputs": [],
      "execution_count": null,
      "metadata": {
        "jupyter": {
          "source_hidden": false,
          "outputs_hidden": false
        },
        "nteract": {
          "transient": {
            "deleting": false
          }
        }
      }
    }
  ],
  "metadata": {
    "kernelspec": {
      "name": "synapse_pyspark",
      "language": "Python",
      "display_name": "Synapse PySpark"
    },
    "language_info": {
      "name": "python"
    },
    "kernel_info": {
      "name": "synapse_pyspark"
    },
    "description": null,
    "save_output": true,
    "synapse_widget": {
      "version": "0.1",
      "state": {}
    }
  },
  "nbformat": 4,
  "nbformat_minor": 2
}